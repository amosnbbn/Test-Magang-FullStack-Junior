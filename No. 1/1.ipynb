{
 "cells": [
  {
   "cell_type": "code",
   "execution_count": 5,
   "metadata": {},
   "outputs": [],
   "source": [
    "import numpy as py"
   ]
  },
  {
   "cell_type": "markdown",
   "metadata": {},
   "source": [
    "CASE 1 No. 1  Buah apa saja yang dimiliki Andi? (fruitName)"
   ]
  },
  {
   "cell_type": "code",
   "execution_count": 7,
   "metadata": {},
   "outputs": [],
   "source": [
    "fruits = [\n",
    "    {\"fruitId\": 1, \"fruitName\": \"Apel\", \"fruitType\": \"IMPORT\", \"stock\": 10},\n",
    "    {\"fruitId\": 2, \"fruitName\": \"Kurma\", \"fruitType\": \"IMPORT\", \"stock\": 20},\n",
    "    {\"fruitId\": 3, \"fruitName\": \"apel\", \"fruitType\": \"IMPORT\", \"stock\": 50},\n",
    "    {\"fruitId\": 4, \"fruitName\": \"manggis\", \"fruitType\": \"LOCAL\", \"stock\": 200},\n",
    "    {\"fruitId\": 5, \"fruitName\": \"Jeruk Bali\", \"fruitType\": \"LOCAL\", \"stock\": 10},\n",
    "    {\"fruitId\": 5, \"fruitName\": \"KURMA\", \"fruitType\": \"IMPORT\", \"stock\": 20},\n",
    "    {\"fruitId\": 5, \"fruitName\": \"Salak\", \"fruitType\": \"IMPORT\", \"stock\": 150},\n",
    "]"
   ]
  },
  {
   "cell_type": "code",
   "execution_count": 2,
   "metadata": {},
   "outputs": [],
   "source": [
    "def get_unique_fruit_names(fruits):\n",
    "    unique_names = set (fruit[\"fruitName\"].lower() for fruit in fruits)\n",
    "    return list(unique_names)"
   ]
  },
  {
   "cell_type": "code",
   "execution_count": 8,
   "metadata": {},
   "outputs": [
    {
     "name": "stdout",
     "output_type": "stream",
     "text": [
      " 1. Buah yang dimiliki andi adalah\n"
     ]
    },
    {
     "data": {
      "text/plain": [
       "['apel', 'manggis', 'kurma', 'jeruk bali', 'salak']"
      ]
     },
     "execution_count": 8,
     "metadata": {},
     "output_type": "execute_result"
    }
   ],
   "source": [
    "print(\" 1. Buah yang dimiliki andi adalah\")\n",
    "fruit_names =get_unique_fruit_names(fruits)\n",
    "fruit_names"
   ]
  },
  {
   "cell_type": "markdown",
   "metadata": {},
   "source": [
    "No. 2 Andi memisahkan buahnya menjadi beberapa wadah berdasarkan tipe buah \n",
    "(fruitType). Berapa jumlah wadah yang dibutuhkan? Dan ada buah apa saja di \n",
    "masing-masing wadah?"
   ]
  },
  {
   "cell_type": "code",
   "execution_count": 13,
   "metadata": {},
   "outputs": [
    {
     "data": {
      "text/plain": [
       "{'IMPORT': ['Apel', 'Kurma', 'apel', 'KURMA', 'Salak'],\n",
       " 'LOCAL': ['manggis', 'Jeruk Bali']}"
      ]
     },
     "execution_count": 13,
     "metadata": {},
     "output_type": "execute_result"
    }
   ],
   "source": [
    "fruit_types = {}\n",
    "for fruit in fruits:\n",
    "    if fruit[\"fruitType\"] not in fruit_types:\n",
    "        fruit_types[fruit[\"fruitType\"]] = []\n",
    "    fruit_types[fruit[\"fruitType\"]].append(fruit[\"fruitName\"])\n",
    "\n",
    "fruit_types"
   ]
  },
  {
   "cell_type": "markdown",
   "metadata": {},
   "source": [
    " N0. 3 Berapa total stock buah yang ada di masing-masing wadah?"
   ]
  },
  {
   "cell_type": "code",
   "execution_count": 18,
   "metadata": {},
   "outputs": [],
   "source": [
    "def get_total_stock_by_type(fruits):\n",
    "    stock_by_type = {}\n",
    "    for fruit in fruits:\n",
    "        fruit_type = fruit[\"fruitType\"]\n",
    "        stock_by_type[fruit_type] = stock_by_type.get(fruit_type, 0) + fruit[\"stock\"]\n",
    "    return stock_by_type"
   ]
  },
  {
   "cell_type": "code",
   "execution_count": 19,
   "metadata": {},
   "outputs": [
    {
     "name": "stdout",
     "output_type": "stream",
     "text": [
      "3. Total dari stock buah yang ada di masing-masing wadah adalah\n"
     ]
    },
    {
     "data": {
      "text/plain": [
       "{'IMPORT': 250, 'LOCAL': 210}"
      ]
     },
     "execution_count": 19,
     "metadata": {},
     "output_type": "execute_result"
    }
   ],
   "source": [
    "print(\"3. Total dari stock buah yang ada di masing-masing wadah adalah\")\n",
    "total_stock = get_total_stock_by_type(fruits)\n",
    "total_stock"
   ]
  },
  {
   "cell_type": "markdown",
   "metadata": {},
   "source": [
    "NO 4. Apakah ada komentar terkait kasus di atas?"
   ]
  },
  {
   "cell_type": "code",
   "execution_count": 20,
   "metadata": {},
   "outputs": [],
   "source": [
    "comments = \"Terdapat beberapa duplikasi dalam data, seperti buah 'Kurma' yang tercatat lebih dari satu kali dengan ID yang sama, namun memiliki data nama dan stock yang berbeda.\""
   ]
  }
 ],
 "metadata": {
  "kernelspec": {
   "display_name": "Python 3",
   "language": "python",
   "name": "python3"
  },
  "language_info": {
   "codemirror_mode": {
    "name": "ipython",
    "version": 3
   },
   "file_extension": ".py",
   "mimetype": "text/x-python",
   "name": "python",
   "nbconvert_exporter": "python",
   "pygments_lexer": "ipython3",
   "version": "3.12.3"
  }
 },
 "nbformat": 4,
 "nbformat_minor": 2
}
