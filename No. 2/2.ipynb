{
 "cells": [
  {
   "cell_type": "markdown",
   "metadata": {},
   "source": [
    "CASE 2 Buatlah fungsi untuk menghitung total komentar yang ada, termasuk semua \n",
    "balasan komentar. Berdasarkan data di atas, total komentar adalah 7 komentar"
   ]
  },
  {
   "cell_type": "code",
   "execution_count": 1,
   "metadata": {},
   "outputs": [],
   "source": [
    "comments = [\n",
    "    {\n",
    "        \"commentId\": 1,\n",
    "        \"commentContent\": \"Hai\",\n",
    "        \"replies\": [\n",
    "            {\n",
    "                \"commentId\": 11,\n",
    "                \"commentContent\": \"Hai juga\",\n",
    "                \"replies\": [\n",
    "                    {\n",
    "                        \"commentId\": 111,\n",
    "                        \"commentContent\": \"Haai juga hai jugaa\"\n",
    "                    },\n",
    "                    {\n",
    "                        \"commentId\": 112,\n",
    "                        \"commentContent\": \"Haai juga hai jugaa\"\n",
    "                    }\n",
    "                ]\n",
    "            },\n",
    "            {\n",
    "                \"commentId\": 12,\n",
    "                \"commentContent\": \"Hai juga\",\n",
    "                \"replies\": [\n",
    "                    {\n",
    "                        \"commentId\": 121,\n",
    "                        \"commentContent\": \"Haai juga hai jugaa\"\n",
    "                    }\n",
    "                ]\n",
    "            }\n",
    "        ]\n",
    "    },\n",
    "    {\n",
    "        \"commentId\": 2,\n",
    "        \"commentContent\": \"Halooo\"\n",
    "    }\n",
    "]\n"
   ]
  },
  {
   "cell_type": "code",
   "execution_count": 2,
   "metadata": {},
   "outputs": [],
   "source": [
    "def count_comments(comments):\n",
    "    total_comments = 0\n",
    "    for comment in comments:\n",
    "        total_comments += 1  # Hitung komentar utama\n",
    "        if \"replies\" in comment:  # Jika ada balasan\n",
    "            total_comments += count_comments(comment[\"replies\"])  # Rekursif untuk menghitung balasan\n",
    "    return total_comments"
   ]
  },
  {
   "cell_type": "code",
   "execution_count": 3,
   "metadata": {},
   "outputs": [
    {
     "data": {
      "text/plain": [
       "7"
      ]
     },
     "execution_count": 3,
     "metadata": {},
     "output_type": "execute_result"
    }
   ],
   "source": [
    "total_comments = count_comments(comments)\n",
    "total_comments"
   ]
  }
 ],
 "metadata": {
  "kernelspec": {
   "display_name": "Python 3",
   "language": "python",
   "name": "python3"
  },
  "language_info": {
   "codemirror_mode": {
    "name": "ipython",
    "version": 3
   },
   "file_extension": ".py",
   "mimetype": "text/x-python",
   "name": "python",
   "nbconvert_exporter": "python",
   "pygments_lexer": "ipython3",
   "version": "3.12.3"
  }
 },
 "nbformat": 4,
 "nbformat_minor": 2
}
